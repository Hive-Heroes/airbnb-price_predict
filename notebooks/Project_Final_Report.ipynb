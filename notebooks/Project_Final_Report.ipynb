{
 "cells": [
  {
   "cell_type": "markdown",
   "id": "d2cc3d8f-e076-4257-84f4-9707bb135867",
   "metadata": {},
   "source": [
    "# Final Project Title"
   ]
  },
  {
   "cell_type": "markdown",
   "id": "0a3bcd5c-098c-428e-b531-0c2a4a2ecceb",
   "metadata": {},
   "source": [
    "## Team Members\n",
    "\n",
    "- Berfin Duman, berfiinduman@gmail.com,  040190108\n",
    "- Bike Sönmez, bikesnmz@outlook.com, 090190326 "
   ]
  },
  {
   "cell_type": "markdown",
   "id": "1aacebd6-8783-4501-a60a-cb0eb27099db",
   "metadata": {},
   "source": [
    "## Data Set Introduction\n",
    "\n",
    "- Give some technical information or a brief story about the data set you used in this project which will motivate the reader.\n",
    "- Introduce your data set and variables in detail here (for example, you may have numerical, nominal, ordinal features along with possible missing values etc). \n",
    "- Please do not forget to give the reference of the place where you obtained the data set from."
   ]
  },
  {
   "cell_type": "markdown",
   "id": "c1297260-03cd-41ae-b3c8-464e029c9caa",
   "metadata": {},
   "source": [
    "## Description of the Problem\n",
    "\n",
    "- Tell us about the possible questions you are interested in this data set. \n",
    "  - You may want to build a regression model to predict a continuous variable based on a set of features and try to find a good model for this data set by fitting several different models and comparing the performance of the models on this data set.\n",
    "  - You may want to build a classfier to predict a binary/multi-class variable based on a set of features and try to find a good model for this data set by fitting several different classifiers and comparing the performance of the models on this data set.\n",
    "  - You may have high-dimensional features (too many features) and want to reduce the dimension of features prior to model building etc."
   ]
  },
  {
   "cell_type": "markdown",
   "id": "ba303776-fd1e-4d77-a725-ba8f7a44bbf2",
   "metadata": {},
   "source": [
    "## Data Exploration\n",
    "- Tell us about the descriptive approaches you have done to explore your data set.\n",
    "   - Some basic descriptive statistics\n",
    "   - Some visualizations that will open a door/insight for your questions.\n",
    "- Please, whenever you present a result/visualization here, interpret it. If you are not planning to interpret it, do not include it here either."
   ]
  },
  {
   "cell_type": "markdown",
   "id": "9675c5be-7c0f-4f66-a310-5e3a5a6974ef",
   "metadata": {},
   "source": [
    "## Methodologies\n",
    "\n",
    "- Tell us about data pre-processing approaches you have done (if you have done any).\n",
    "- Tells us about the methodologies you have done to find answer to your research problems defined above."
   ]
  },
  {
   "cell_type": "markdown",
   "id": "a389d622-efb8-41cd-98ca-8849dcbb8b49",
   "metadata": {},
   "source": [
    "## Results\n",
    "- Discuss the results here. You can discuss the results with respect to algorithms'/models' performance as well as you can give some reason why that algorithm/model performed better than the others. \n",
    "- Any further results can be discussed here."
   ]
  },
  {
   "cell_type": "markdown",
   "id": "1604262b-f098-4423-bda4-9b00f3d20531",
   "metadata": {},
   "source": [
    "## Conclusion\n",
    "- Give a summary of your project and make a conclusion."
   ]
  },
  {
   "cell_type": "markdown",
   "id": "84ee89ec-81a1-4436-a41d-381694d979c3",
   "metadata": {
    "tags": []
   },
   "source": [
    "## Work Distribution\n",
    "\n",
    "- Tell us about the work distribution among the team members. Please state the contribution with a percantage.\n",
    "\n",
    "- Task 1 (e.g., Literature Review). Member A %100.\n",
    "- Task 2.(eg., Data Cleaning).  Member A %20 and B %80.\n",
    "- Task 3..."
   ]
  },
  {
   "cell_type": "markdown",
   "id": "f5bf78eb-d9ef-4b27-b22e-687fd5c1bf0c",
   "metadata": {},
   "source": [
    "## References\n",
    "\n",
    "- All the external sources (including images, data set access etc should be cited here)."
   ]
  },
  {
   "cell_type": "markdown",
   "id": "64d9d310-2459-45fd-bedd-ea1c5aacc0a4",
   "metadata": {
    "tags": []
   },
   "source": [
    "## Additional Folders"
   ]
  },
  {
   "cell_type": "markdown",
   "id": "4a33b677-94b3-4031-8d79-909a8ae2db67",
   "metadata": {},
   "source": [
    "If this document involves datasets and images, please keep them in datasets and img folders, respectively. Please, be sure that your project is REPRODUCIBLE. Otherwise, it may not be graded."
   ]
  }
 ],
 "metadata": {
  "kernelspec": {
   "display_name": "Python 3 (ipykernel)",
   "language": "python",
   "name": "python3"
  },
  "language_info": {
   "codemirror_mode": {
    "name": "ipython",
    "version": 3
   },
   "file_extension": ".py",
   "mimetype": "text/x-python",
   "name": "python",
   "nbconvert_exporter": "python",
   "pygments_lexer": "ipython3",
   "version": "3.8.8"
  }
 },
 "nbformat": 4,
 "nbformat_minor": 5
}
